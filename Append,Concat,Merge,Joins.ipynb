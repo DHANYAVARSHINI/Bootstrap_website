{
  "nbformat": 4,
  "nbformat_minor": 0,
  "metadata": {
    "colab": {
      "provenance": [],
      "authorship_tag": "ABX9TyP9wuZG6exjkighdDe32wpt",
      "include_colab_link": true
    },
    "kernelspec": {
      "name": "python3",
      "display_name": "Python 3"
    },
    "language_info": {
      "name": "python"
    }
  },
  "cells": [
    {
      "cell_type": "markdown",
      "metadata": {
        "id": "view-in-github",
        "colab_type": "text"
      },
      "source": [
        "<a href=\"https://colab.research.google.com/github/DHANYAVARSHINI/Bootstrap_website/blob/master/Append%2CConcat%2CMerge%2CJoins.ipynb\" target=\"_parent\"><img src=\"https://colab.research.google.com/assets/colab-badge.svg\" alt=\"Open In Colab\"/></a>"
      ]
    },
    {
      "cell_type": "code",
      "execution_count": null,
      "metadata": {
        "id": "Zr3_Ckvx6O_X"
      },
      "outputs": [],
      "source": [
        "#importing Pandas\n",
        "import pandas as pd"
      ]
    },
    {
      "cell_type": "code",
      "source": [
        "#Creating Dataset 1\n",
        "df1= pd.DataFrame({'Fruits':['Apple','Mango','Gova','Grapes'],\n",
        "                   'Cost':[80,70,50,30],\n",
        "                   'Discount':[2,5,1,3]});\n",
        "print(df1);"
      ],
      "metadata": {
        "colab": {
          "base_uri": "https://localhost:8080/"
        },
        "id": "vV7cxQjU6VGt",
        "outputId": "fb297943-abbe-4dac-d378-f0cbe9c7c36d"
      },
      "execution_count": 55,
      "outputs": [
        {
          "output_type": "stream",
          "name": "stdout",
          "text": [
            "   Fruits  Cost  Discount\n",
            "0   Apple    80         2\n",
            "1   Mango    70         5\n",
            "2    Gova    50         1\n",
            "3  Grapes    30         3\n"
          ]
        }
      ]
    },
    {
      "cell_type": "code",
      "source": [
        "#Creating Dataset 2\n",
        "df2=pd.DataFrame({'Fruits':['Orange','Pineapple','Cherry','Apple'],\n",
        "                   'Cost':[40,55,45,75],\n",
        "                   'Quantity':['3kg','2kg','5kg','1kg']});\n",
        "print(df2);"
      ],
      "metadata": {
        "id": "4x6fWQ6W7zt7",
        "outputId": "c2b43b3b-7261-491d-810a-0546e37d0e16",
        "colab": {
          "base_uri": "https://localhost:8080/"
        }
      },
      "execution_count": 58,
      "outputs": [
        {
          "output_type": "stream",
          "name": "stdout",
          "text": [
            "      Fruits  Cost Quantity\n",
            "0     Orange    40      3kg\n",
            "1  Pineapple    55      2kg\n",
            "2     Cherry    45      5kg\n",
            "3      Apple    75      1kg\n"
          ]
        }
      ]
    },
    {
      "cell_type": "code",
      "source": [
        "#Appending Dataframes\n",
        "df1.append(df2, ignore_index=True)"
      ],
      "metadata": {
        "id": "JrYXFFHW_Y8m",
        "colab": {
          "base_uri": "https://localhost:8080/",
          "height": 335
        },
        "outputId": "c8e6846e-4569-491d-cbdb-638dc87de1c3"
      },
      "execution_count": 59,
      "outputs": [
        {
          "output_type": "stream",
          "name": "stderr",
          "text": [
            "<ipython-input-59-303bd28ca8bb>:2: FutureWarning: The frame.append method is deprecated and will be removed from pandas in a future version. Use pandas.concat instead.\n",
            "  df1.append(df2, ignore_index=True)\n"
          ]
        },
        {
          "output_type": "execute_result",
          "data": {
            "text/plain": [
              "      Fruits  Cost  Discount Quantity\n",
              "0      Apple    80       2.0      NaN\n",
              "1      Mango    70       5.0      NaN\n",
              "2       Gova    50       1.0      NaN\n",
              "3     Grapes    30       3.0      NaN\n",
              "4     Orange    40       NaN      3kg\n",
              "5  Pineapple    55       NaN      2kg\n",
              "6     Cherry    45       NaN      5kg\n",
              "7      Apple    75       NaN      1kg"
            ],
            "text/html": [
              "\n",
              "\n",
              "  <div id=\"df-f0c005cd-943e-4d1b-8283-c665df60c1f3\">\n",
              "    <div class=\"colab-df-container\">\n",
              "      <div>\n",
              "<style scoped>\n",
              "    .dataframe tbody tr th:only-of-type {\n",
              "        vertical-align: middle;\n",
              "    }\n",
              "\n",
              "    .dataframe tbody tr th {\n",
              "        vertical-align: top;\n",
              "    }\n",
              "\n",
              "    .dataframe thead th {\n",
              "        text-align: right;\n",
              "    }\n",
              "</style>\n",
              "<table border=\"1\" class=\"dataframe\">\n",
              "  <thead>\n",
              "    <tr style=\"text-align: right;\">\n",
              "      <th></th>\n",
              "      <th>Fruits</th>\n",
              "      <th>Cost</th>\n",
              "      <th>Discount</th>\n",
              "      <th>Quantity</th>\n",
              "    </tr>\n",
              "  </thead>\n",
              "  <tbody>\n",
              "    <tr>\n",
              "      <th>0</th>\n",
              "      <td>Apple</td>\n",
              "      <td>80</td>\n",
              "      <td>2.0</td>\n",
              "      <td>NaN</td>\n",
              "    </tr>\n",
              "    <tr>\n",
              "      <th>1</th>\n",
              "      <td>Mango</td>\n",
              "      <td>70</td>\n",
              "      <td>5.0</td>\n",
              "      <td>NaN</td>\n",
              "    </tr>\n",
              "    <tr>\n",
              "      <th>2</th>\n",
              "      <td>Gova</td>\n",
              "      <td>50</td>\n",
              "      <td>1.0</td>\n",
              "      <td>NaN</td>\n",
              "    </tr>\n",
              "    <tr>\n",
              "      <th>3</th>\n",
              "      <td>Grapes</td>\n",
              "      <td>30</td>\n",
              "      <td>3.0</td>\n",
              "      <td>NaN</td>\n",
              "    </tr>\n",
              "    <tr>\n",
              "      <th>4</th>\n",
              "      <td>Orange</td>\n",
              "      <td>40</td>\n",
              "      <td>NaN</td>\n",
              "      <td>3kg</td>\n",
              "    </tr>\n",
              "    <tr>\n",
              "      <th>5</th>\n",
              "      <td>Pineapple</td>\n",
              "      <td>55</td>\n",
              "      <td>NaN</td>\n",
              "      <td>2kg</td>\n",
              "    </tr>\n",
              "    <tr>\n",
              "      <th>6</th>\n",
              "      <td>Cherry</td>\n",
              "      <td>45</td>\n",
              "      <td>NaN</td>\n",
              "      <td>5kg</td>\n",
              "    </tr>\n",
              "    <tr>\n",
              "      <th>7</th>\n",
              "      <td>Apple</td>\n",
              "      <td>75</td>\n",
              "      <td>NaN</td>\n",
              "      <td>1kg</td>\n",
              "    </tr>\n",
              "  </tbody>\n",
              "</table>\n",
              "</div>\n",
              "      <button class=\"colab-df-convert\" onclick=\"convertToInteractive('df-f0c005cd-943e-4d1b-8283-c665df60c1f3')\"\n",
              "              title=\"Convert this dataframe to an interactive table.\"\n",
              "              style=\"display:none;\">\n",
              "\n",
              "  <svg xmlns=\"http://www.w3.org/2000/svg\" height=\"24px\"viewBox=\"0 0 24 24\"\n",
              "       width=\"24px\">\n",
              "    <path d=\"M0 0h24v24H0V0z\" fill=\"none\"/>\n",
              "    <path d=\"M18.56 5.44l.94 2.06.94-2.06 2.06-.94-2.06-.94-.94-2.06-.94 2.06-2.06.94zm-11 1L8.5 8.5l.94-2.06 2.06-.94-2.06-.94L8.5 2.5l-.94 2.06-2.06.94zm10 10l.94 2.06.94-2.06 2.06-.94-2.06-.94-.94-2.06-.94 2.06-2.06.94z\"/><path d=\"M17.41 7.96l-1.37-1.37c-.4-.4-.92-.59-1.43-.59-.52 0-1.04.2-1.43.59L10.3 9.45l-7.72 7.72c-.78.78-.78 2.05 0 2.83L4 21.41c.39.39.9.59 1.41.59.51 0 1.02-.2 1.41-.59l7.78-7.78 2.81-2.81c.8-.78.8-2.07 0-2.86zM5.41 20L4 18.59l7.72-7.72 1.47 1.35L5.41 20z\"/>\n",
              "  </svg>\n",
              "      </button>\n",
              "\n",
              "\n",
              "\n",
              "    <div id=\"df-872dff30-7b2b-431c-bac7-4fa1fdcecfcc\">\n",
              "      <button class=\"colab-df-quickchart\" onclick=\"quickchart('df-872dff30-7b2b-431c-bac7-4fa1fdcecfcc')\"\n",
              "              title=\"Suggest charts.\"\n",
              "              style=\"display:none;\">\n",
              "\n",
              "<svg xmlns=\"http://www.w3.org/2000/svg\" height=\"24px\"viewBox=\"0 0 24 24\"\n",
              "     width=\"24px\">\n",
              "    <g>\n",
              "        <path d=\"M19 3H5c-1.1 0-2 .9-2 2v14c0 1.1.9 2 2 2h14c1.1 0 2-.9 2-2V5c0-1.1-.9-2-2-2zM9 17H7v-7h2v7zm4 0h-2V7h2v10zm4 0h-2v-4h2v4z\"/>\n",
              "    </g>\n",
              "</svg>\n",
              "      </button>\n",
              "    </div>\n",
              "\n",
              "<style>\n",
              "  .colab-df-quickchart {\n",
              "    background-color: #E8F0FE;\n",
              "    border: none;\n",
              "    border-radius: 50%;\n",
              "    cursor: pointer;\n",
              "    display: none;\n",
              "    fill: #1967D2;\n",
              "    height: 32px;\n",
              "    padding: 0 0 0 0;\n",
              "    width: 32px;\n",
              "  }\n",
              "\n",
              "  .colab-df-quickchart:hover {\n",
              "    background-color: #E2EBFA;\n",
              "    box-shadow: 0px 1px 2px rgba(60, 64, 67, 0.3), 0px 1px 3px 1px rgba(60, 64, 67, 0.15);\n",
              "    fill: #174EA6;\n",
              "  }\n",
              "\n",
              "  [theme=dark] .colab-df-quickchart {\n",
              "    background-color: #3B4455;\n",
              "    fill: #D2E3FC;\n",
              "  }\n",
              "\n",
              "  [theme=dark] .colab-df-quickchart:hover {\n",
              "    background-color: #434B5C;\n",
              "    box-shadow: 0px 1px 3px 1px rgba(0, 0, 0, 0.15);\n",
              "    filter: drop-shadow(0px 1px 2px rgba(0, 0, 0, 0.3));\n",
              "    fill: #FFFFFF;\n",
              "  }\n",
              "</style>\n",
              "\n",
              "    <script>\n",
              "      async function quickchart(key) {\n",
              "        const containerElement = document.querySelector('#' + key);\n",
              "        const charts = await google.colab.kernel.invokeFunction(\n",
              "            'suggestCharts', [key], {});\n",
              "      }\n",
              "    </script>\n",
              "\n",
              "      <script>\n",
              "\n",
              "function displayQuickchartButton(domScope) {\n",
              "  let quickchartButtonEl =\n",
              "    domScope.querySelector('#df-872dff30-7b2b-431c-bac7-4fa1fdcecfcc button.colab-df-quickchart');\n",
              "  quickchartButtonEl.style.display =\n",
              "    google.colab.kernel.accessAllowed ? 'block' : 'none';\n",
              "}\n",
              "\n",
              "        displayQuickchartButton(document);\n",
              "      </script>\n",
              "      <style>\n",
              "    .colab-df-container {\n",
              "      display:flex;\n",
              "      flex-wrap:wrap;\n",
              "      gap: 12px;\n",
              "    }\n",
              "\n",
              "    .colab-df-convert {\n",
              "      background-color: #E8F0FE;\n",
              "      border: none;\n",
              "      border-radius: 50%;\n",
              "      cursor: pointer;\n",
              "      display: none;\n",
              "      fill: #1967D2;\n",
              "      height: 32px;\n",
              "      padding: 0 0 0 0;\n",
              "      width: 32px;\n",
              "    }\n",
              "\n",
              "    .colab-df-convert:hover {\n",
              "      background-color: #E2EBFA;\n",
              "      box-shadow: 0px 1px 2px rgba(60, 64, 67, 0.3), 0px 1px 3px 1px rgba(60, 64, 67, 0.15);\n",
              "      fill: #174EA6;\n",
              "    }\n",
              "\n",
              "    [theme=dark] .colab-df-convert {\n",
              "      background-color: #3B4455;\n",
              "      fill: #D2E3FC;\n",
              "    }\n",
              "\n",
              "    [theme=dark] .colab-df-convert:hover {\n",
              "      background-color: #434B5C;\n",
              "      box-shadow: 0px 1px 3px 1px rgba(0, 0, 0, 0.15);\n",
              "      filter: drop-shadow(0px 1px 2px rgba(0, 0, 0, 0.3));\n",
              "      fill: #FFFFFF;\n",
              "    }\n",
              "  </style>\n",
              "\n",
              "      <script>\n",
              "        const buttonEl =\n",
              "          document.querySelector('#df-f0c005cd-943e-4d1b-8283-c665df60c1f3 button.colab-df-convert');\n",
              "        buttonEl.style.display =\n",
              "          google.colab.kernel.accessAllowed ? 'block' : 'none';\n",
              "\n",
              "        async function convertToInteractive(key) {\n",
              "          const element = document.querySelector('#df-f0c005cd-943e-4d1b-8283-c665df60c1f3');\n",
              "          const dataTable =\n",
              "            await google.colab.kernel.invokeFunction('convertToInteractive',\n",
              "                                                     [key], {});\n",
              "          if (!dataTable) return;\n",
              "\n",
              "          const docLinkHtml = 'Like what you see? Visit the ' +\n",
              "            '<a target=\"_blank\" href=https://colab.research.google.com/notebooks/data_table.ipynb>data table notebook</a>'\n",
              "            + ' to learn more about interactive tables.';\n",
              "          element.innerHTML = '';\n",
              "          dataTable['output_type'] = 'display_data';\n",
              "          await google.colab.output.renderOutput(dataTable, element);\n",
              "          const docLink = document.createElement('div');\n",
              "          docLink.innerHTML = docLinkHtml;\n",
              "          element.appendChild(docLink);\n",
              "        }\n",
              "      </script>\n",
              "    </div>\n",
              "  </div>\n"
            ]
          },
          "metadata": {},
          "execution_count": 59
        }
      ]
    },
    {
      "cell_type": "code",
      "source": [
        "#Concatenating Dataframes\n",
        "print(pd.concat([df1,df2], axis=1))"
      ],
      "metadata": {
        "colab": {
          "base_uri": "https://localhost:8080/"
        },
        "id": "QhPIgWFKAKaC",
        "outputId": "28b30c68-ba12-4247-b70e-ce6cba2f3084"
      },
      "execution_count": 60,
      "outputs": [
        {
          "output_type": "stream",
          "name": "stdout",
          "text": [
            "   Fruits  Cost  Discount     Fruits  Cost Quantity\n",
            "0   Apple    80         2     Orange    40      3kg\n",
            "1   Mango    70         5  Pineapple    55      2kg\n",
            "2    Gova    50         1     Cherry    45      5kg\n",
            "3  Grapes    30         3      Apple    75      1kg\n"
          ]
        }
      ]
    },
    {
      "cell_type": "code",
      "source": [
        "#Merging Dataframes\n",
        "\n",
        "\n",
        "#Merging Dataframes left\n",
        "df3=pd.merge(df1,df2,on='Fruits',how='left')\n",
        "print(df3)\n",
        "print(\"\\n\")\n",
        "\n",
        "#Merging Dataframes right\n",
        "df3=pd.merge(df1,df2,on='Fruits',how='right')\n",
        "print(df3)"
      ],
      "metadata": {
        "colab": {
          "base_uri": "https://localhost:8080/"
        },
        "id": "bcC3j804C-FJ",
        "outputId": "1a4c660c-4a80-4125-99d0-f2a95e2a1f28"
      },
      "execution_count": 61,
      "outputs": [
        {
          "output_type": "stream",
          "name": "stdout",
          "text": [
            "   Fruits  Cost_x  Discount  Cost_y Quantity\n",
            "0   Apple      80         2    75.0      1kg\n",
            "1   Mango      70         5     NaN      NaN\n",
            "2    Gova      50         1     NaN      NaN\n",
            "3  Grapes      30         3     NaN      NaN\n",
            "\n",
            "\n",
            "      Fruits  Cost_x  Discount  Cost_y Quantity\n",
            "0     Orange     NaN       NaN      40      3kg\n",
            "1  Pineapple     NaN       NaN      55      2kg\n",
            "2     Cherry     NaN       NaN      45      5kg\n",
            "3      Apple    80.0       2.0      75      1kg\n"
          ]
        }
      ]
    },
    {
      "cell_type": "code",
      "source": [
        "#Joining Dataframes\n",
        "\n",
        "\n",
        "#Inner Join\n",
        "df3=pd.merge(df1, df2, on='Fruits', how='inner')\n",
        "print(df3)\n",
        "print(\"\\n\")\n",
        "\n",
        "#Left Outer Join\n",
        "df4=pd.merge(df1, df2, on='Fruits', how='left')\n",
        "print(df4)\n",
        "print(\"\\n\")\n",
        "\n",
        "#Right Outer Join\n",
        "df5=pd.merge(df1, df2, on='Fruits', how='right')\n",
        "print(df5)\n",
        "print(\"\\n\")\n",
        "\n",
        "#Full Outer Join\n",
        "df6=pd.merge(df1, df2, on='Fruits', how='outer')\n",
        "print(df6)\n",
        "print(\"\\n\")"
      ],
      "metadata": {
        "colab": {
          "base_uri": "https://localhost:8080/"
        },
        "id": "f64W49hLFL46",
        "outputId": "b3199efe-b38e-4fa4-cf73-8cfd385158b9"
      },
      "execution_count": 71,
      "outputs": [
        {
          "output_type": "stream",
          "name": "stdout",
          "text": [
            "  Fruits  Cost_x  Discount  Cost_y Quantity\n",
            "0  Apple      80         2      75      1kg\n",
            "\n",
            "\n",
            "   Fruits  Cost_x  Discount  Cost_y Quantity\n",
            "0   Apple      80         2    75.0      1kg\n",
            "1   Mango      70         5     NaN      NaN\n",
            "2    Gova      50         1     NaN      NaN\n",
            "3  Grapes      30         3     NaN      NaN\n",
            "\n",
            "\n",
            "      Fruits  Cost_x  Discount  Cost_y Quantity\n",
            "0     Orange     NaN       NaN      40      3kg\n",
            "1  Pineapple     NaN       NaN      55      2kg\n",
            "2     Cherry     NaN       NaN      45      5kg\n",
            "3      Apple    80.0       2.0      75      1kg\n",
            "\n",
            "\n",
            "      Fruits  Cost_x  Discount  Cost_y Quantity\n",
            "0      Apple    80.0       2.0    75.0      1kg\n",
            "1      Mango    70.0       5.0     NaN      NaN\n",
            "2       Gova    50.0       1.0     NaN      NaN\n",
            "3     Grapes    30.0       3.0     NaN      NaN\n",
            "4     Orange     NaN       NaN    40.0      3kg\n",
            "5  Pineapple     NaN       NaN    55.0      2kg\n",
            "6     Cherry     NaN       NaN    45.0      5kg\n",
            "\n",
            "\n"
          ]
        }
      ]
    },
    {
      "cell_type": "code",
      "source": [],
      "metadata": {
        "id": "AunA88mjFPzA"
      },
      "execution_count": null,
      "outputs": []
    }
  ]
}