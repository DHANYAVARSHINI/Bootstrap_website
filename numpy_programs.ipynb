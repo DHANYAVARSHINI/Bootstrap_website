{
  "nbformat": 4,
  "nbformat_minor": 0,
  "metadata": {
    "colab": {
      "provenance": [],
      "authorship_tag": "ABX9TyPM5QbLWoTMFScyTBRML5a5",
      "include_colab_link": true
    },
    "kernelspec": {
      "name": "python3",
      "display_name": "Python 3"
    },
    "language_info": {
      "name": "python"
    }
  },
  "cells": [
    {
      "cell_type": "markdown",
      "metadata": {
        "id": "view-in-github",
        "colab_type": "text"
      },
      "source": [
        "<a href=\"https://colab.research.google.com/github/DHANYAVARSHINI/Bootstrap_website/blob/master/numpy_programs.ipynb\" target=\"_parent\"><img src=\"https://colab.research.google.com/assets/colab-badge.svg\" alt=\"Open In Colab\"/></a>"
      ]
    },
    {
      "cell_type": "code",
      "source": [
        "import numpy as np\n",
        "# Defining 1D array\n",
        "my1DArray = np.array([1, 8, 27, 64])\n",
        "print(my1DArray)\n"
      ],
      "metadata": {
        "colab": {
          "base_uri": "https://localhost:8080/"
        },
        "id": "5bwTUMXp0LGZ",
        "outputId": "620e881f-e136-4d90-910f-5d014d38511b"
      },
      "execution_count": null,
      "outputs": [
        {
          "output_type": "stream",
          "name": "stdout",
          "text": [
            "[ 1  8 27 64]\n"
          ]
        }
      ]
    },
    {
      "cell_type": "code",
      "source": [
        "# Defining and printing 2D array\n",
        "my2DArray = np.array([[1, 2, 3, 4], [2, 4, 9, 16], [4, 8, 18, 32]])\n",
        "print(my2DArray)"
      ],
      "metadata": {
        "colab": {
          "base_uri": "https://localhost:8080/"
        },
        "id": "wReE3SlN0RLy",
        "outputId": "b8f4649d-42e0-4116-fcff-ad067d2801a5"
      },
      "execution_count": null,
      "outputs": [
        {
          "output_type": "stream",
          "name": "stdout",
          "text": [
            "[[ 1  2  3  4]\n",
            " [ 2  4  9 16]\n",
            " [ 4  8 18 32]]\n"
          ]
        }
      ]
    },
    {
      "cell_type": "code",
      "source": [
        "#Defining and printing 3D array\n",
        "my3DArray = np.array([[[ 1, 2 , 3 , 4],[ 5 , 6 , 7 ,8]], [[ 1, 2, 3,\n",
        "4],[ 9, 10, 11, 12]]])\n",
        "print(my3DArray)"
      ],
      "metadata": {
        "colab": {
          "base_uri": "https://localhost:8080/"
        },
        "id": "_zM2nPGe0WQJ",
        "outputId": "f488519f-1908-4fb5-cdff-3fb5a45295ed"
      },
      "execution_count": null,
      "outputs": [
        {
          "output_type": "stream",
          "name": "stdout",
          "text": [
            "[[[ 1  2  3  4]\n",
            "  [ 5  6  7  8]]\n",
            "\n",
            " [[ 1  2  3  4]\n",
            "  [ 9 10 11 12]]]\n"
          ]
        }
      ]
    },
    {
      "cell_type": "code",
      "source": [
        "# Print out memory address\n",
        "print(my2DArray.data)\n"
      ],
      "metadata": {
        "colab": {
          "base_uri": "https://localhost:8080/"
        },
        "id": "ry9HGcy80DTB",
        "outputId": "d02447c2-5ae1-4a9a-9ae6-f721365ca0b9"
      },
      "execution_count": null,
      "outputs": [
        {
          "output_type": "stream",
          "name": "stdout",
          "text": [
            "<memory at 0x7c4142ce0110>\n"
          ]
        }
      ]
    },
    {
      "cell_type": "code",
      "source": [
        "# Print the shape of array\n",
        "print(my2DArray.shape)\n"
      ],
      "metadata": {
        "colab": {
          "base_uri": "https://localhost:8080/"
        },
        "id": "xe4EVWmiz9Xc",
        "outputId": "5081757b-b9aa-4f4a-b876-9665288741d5"
      },
      "execution_count": null,
      "outputs": [
        {
          "output_type": "stream",
          "name": "stdout",
          "text": [
            "(3, 4)\n"
          ]
        }
      ]
    },
    {
      "cell_type": "code",
      "source": [
        "# Print out the data type of the array\n",
        "print(my2DArray.dtype)"
      ],
      "metadata": {
        "colab": {
          "base_uri": "https://localhost:8080/"
        },
        "id": "z8ZrEe1e03YQ",
        "outputId": "bda68770-f63b-4023-dbd9-349015802b9b"
      },
      "execution_count": null,
      "outputs": [
        {
          "output_type": "stream",
          "name": "stdout",
          "text": [
            "int64\n"
          ]
        }
      ]
    },
    {
      "cell_type": "code",
      "source": [
        "# Print the stride of the array.\n",
        "print(my2DArray.strides)"
      ],
      "metadata": {
        "colab": {
          "base_uri": "https://localhost:8080/"
        },
        "id": "Pf8E1rY-4zMR",
        "outputId": "8f7a3e0f-34fe-4010-927e-ad4f7327b9cc"
      },
      "execution_count": null,
      "outputs": [
        {
          "output_type": "stream",
          "name": "stdout",
          "text": [
            "(32, 8)\n"
          ]
        }
      ]
    },
    {
      "cell_type": "code",
      "source": [
        "# Array of ones\n",
        "ones = np.ones((3,4))\n",
        "print(ones)"
      ],
      "metadata": {
        "colab": {
          "base_uri": "https://localhost:8080/"
        },
        "id": "-At8ywji5NCP",
        "outputId": "da833035-26b4-45fc-8e4d-92755cdd6c59"
      },
      "execution_count": null,
      "outputs": [
        {
          "output_type": "stream",
          "name": "stdout",
          "text": [
            "[[1. 1. 1. 1.]\n",
            " [1. 1. 1. 1.]\n",
            " [1. 1. 1. 1.]]\n"
          ]
        }
      ]
    },
    {
      "cell_type": "code",
      "source": [
        "# Array of zeros\n",
        "zeros = np.zeros((2,3,4),dtype=np.int16)\n",
        "#zeros = np.zeros((2,3,4))\n",
        "print(zeros)\n"
      ],
      "metadata": {
        "colab": {
          "base_uri": "https://localhost:8080/"
        },
        "id": "3LBeGr5t5jXv",
        "outputId": "c6dfa92b-9d8f-4029-fe82-6fdfe3030a7e"
      },
      "execution_count": null,
      "outputs": [
        {
          "output_type": "stream",
          "name": "stdout",
          "text": [
            "[[[0 0 0 0]\n",
            "  [0 0 0 0]\n",
            "  [0 0 0 0]]\n",
            "\n",
            " [[0 0 0 0]\n",
            "  [0 0 0 0]\n",
            "  [0 0 0 0]]]\n"
          ]
        }
      ]
    },
    {
      "cell_type": "code",
      "source": [
        "# Array with random values\n",
        "np.random.random((2,2))"
      ],
      "metadata": {
        "colab": {
          "base_uri": "https://localhost:8080/"
        },
        "id": "DgtDb6Ah5_a_",
        "outputId": "54c778aa-c94b-4151-f0cb-428bae7747ca"
      },
      "execution_count": null,
      "outputs": [
        {
          "output_type": "execute_result",
          "data": {
            "text/plain": [
              "array([[0.10027481, 0.23524963],\n",
              "       [0.88614494, 0.34473928]])"
            ]
          },
          "metadata": {},
          "execution_count": 22
        }
      ]
    },
    {
      "cell_type": "code",
      "source": [
        "# Empty array\n",
        "emptyArray = np.empty((3,2))\n",
        "print(emptyArray)"
      ],
      "metadata": {
        "colab": {
          "base_uri": "https://localhost:8080/"
        },
        "id": "bmGcSKka6xI-",
        "outputId": "03a9a6e7-fa50-4e2c-8456-94e1d7b715cf"
      },
      "execution_count": null,
      "outputs": [
        {
          "output_type": "stream",
          "name": "stdout",
          "text": [
            "[[0. 0.]\n",
            " [0. 0.]\n",
            " [0. 0.]]\n"
          ]
        }
      ]
    },
    {
      "cell_type": "code",
      "source": [
        "# Full array\n",
        "fullArray = np.full((2,2),7)\n",
        "print(fullArray)"
      ],
      "metadata": {
        "colab": {
          "base_uri": "https://localhost:8080/"
        },
        "id": "GThP4Xg27NJu",
        "outputId": "5e26dd1d-7265-43c0-b4c4-f98a80a3e2b7"
      },
      "execution_count": null,
      "outputs": [
        {
          "output_type": "stream",
          "name": "stdout",
          "text": [
            "[[7 7]\n",
            " [7 7]]\n"
          ]
        }
      ]
    },
    {
      "cell_type": "code",
      "source": [
        "# Array of evenly-spaced values\n",
        "evenSpacedArray = np.arange(10,25,5)\n",
        "print(evenSpacedArray)"
      ],
      "metadata": {
        "colab": {
          "base_uri": "https://localhost:8080/"
        },
        "id": "9fmU4Soh7Uhe",
        "outputId": "8970a318-1dee-4edc-8ea3-9c87dd274c0c"
      },
      "execution_count": null,
      "outputs": [
        {
          "output_type": "stream",
          "name": "stdout",
          "text": [
            "[10 15 20]\n"
          ]
        }
      ]
    },
    {
      "cell_type": "code",
      "source": [
        "# Array of evenly-spaced values\n",
        "evenSpacedArray2 = np.linspace(0,2,9)\n",
        "print(evenSpacedArray2)"
      ],
      "metadata": {
        "colab": {
          "base_uri": "https://localhost:8080/"
        },
        "id": "pm3qatqm7lJe",
        "outputId": "ecca13f3-16ca-49f2-9fbc-5043c2f255be"
      },
      "execution_count": null,
      "outputs": [
        {
          "output_type": "stream",
          "name": "stdout",
          "text": [
            "[0.   0.25 0.5  0.75 1.   1.25 1.5  1.75 2.  ]\n"
          ]
        }
      ]
    },
    {
      "cell_type": "code",
      "source": [
        "# Save a numpy array into file\n",
        "x = np.arange(0.0,50.0,2.0)\n",
        "np.savetxt('data.out', x, delimiter=',')\n",
        "# Loading numpy array from text\n",
        "z = np.loadtxt('data.out', unpack=True)\n",
        "print(z)\n"
      ],
      "metadata": {
        "colab": {
          "base_uri": "https://localhost:8080/"
        },
        "id": "Dkr2ysxH7-Fe",
        "outputId": "695c3a1e-6860-4173-c414-14c611b2dda6"
      },
      "execution_count": null,
      "outputs": [
        {
          "output_type": "stream",
          "name": "stdout",
          "text": [
            "[ 0.  2.  4.  6.  8. 10. 12. 14. 16. 18. 20. 22. 24. 26. 28. 30. 32. 34.\n",
            " 36. 38. 40. 42. 44. 46. 48.]\n"
          ]
        }
      ]
    },
    {
      "cell_type": "code",
      "source": [
        "mydf=np.shape(my2DArray)\n",
        "print(mydf)"
      ],
      "metadata": {
        "colab": {
          "base_uri": "https://localhost:8080/"
        },
        "id": "rODYBZhJFoe7",
        "outputId": "dbaa2f9b-b920-44e1-c75a-34c914b6060f"
      },
      "execution_count": null,
      "outputs": [
        {
          "output_type": "stream",
          "name": "stdout",
          "text": [
            "(3, 4)\n"
          ]
        }
      ]
    },
    {
      "cell_type": "code",
      "source": [
        "# Loading numpy array using genfromtxt method\n",
        "my_array2 = np.genfromtxt('data.out', skip_header=1, filling_values=-999)\n",
        "print(my_array2)"
      ],
      "metadata": {
        "colab": {
          "base_uri": "https://localhost:8080/"
        },
        "id": "ajeAZVdfIP6p",
        "outputId": "9b6d44e6-15c3-47b6-ec94-cc1fe2e1d4eb"
      },
      "execution_count": null,
      "outputs": [
        {
          "output_type": "stream",
          "name": "stdout",
          "text": [
            "[ 2.  4.  6.  8. 10. 12. 14. 16. 18. 20. 22. 24. 26. 28. 30. 32. 34. 36.\n",
            " 38. 40. 42. 44. 46. 48.]\n"
          ]
        }
      ]
    },
    {
      "cell_type": "code",
      "source": [
        "# Print the number of `my2DArray`'s dimensions\n",
        "print(my2DArray.ndim)"
      ],
      "metadata": {
        "colab": {
          "base_uri": "https://localhost:8080/"
        },
        "id": "fSYATONHJHs5",
        "outputId": "dba770f8-306a-4b20-b3dd-b35bbfc847b4"
      },
      "execution_count": null,
      "outputs": [
        {
          "output_type": "stream",
          "name": "stdout",
          "text": [
            "2\n"
          ]
        }
      ]
    },
    {
      "cell_type": "markdown",
      "source": [],
      "metadata": {
        "id": "yDiy-nxxJP5Y"
      }
    },
    {
      "cell_type": "code",
      "source": [
        "# Print the number of `my2DArray`'s elements\n",
        "print(my2DArray.size)"
      ],
      "metadata": {
        "id": "8bWBZIygJKth",
        "outputId": "32ffe963-1bdf-44cc-c5a4-238216bc56e1",
        "colab": {
          "base_uri": "https://localhost:8080/"
        }
      },
      "execution_count": null,
      "outputs": [
        {
          "output_type": "stream",
          "name": "stdout",
          "text": [
            "12\n"
          ]
        }
      ]
    },
    {
      "cell_type": "code",
      "source": [],
      "metadata": {
        "id": "Gku2Wbo8JN25"
      },
      "execution_count": null,
      "outputs": []
    }
  ]
}