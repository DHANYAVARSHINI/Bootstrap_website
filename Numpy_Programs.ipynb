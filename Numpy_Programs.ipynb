{
  "nbformat": 4,
  "nbformat_minor": 0,
  "metadata": {
    "colab": {
      "provenance": [],
      "authorship_tag": "ABX9TyP8hyiWAB/JArLwTOIcKuKS"
    },
    "kernelspec": {
      "name": "python3",
      "display_name": "Python 3"
    },
    "language_info": {
      "name": "python"
    }
  },
  "cells": [
    {
      "cell_type": "code",
      "source": [
        "import numpy as np\n",
        "# Defining 1D array\n",
        "my1DArray = np.array([1, 8, 27, 64])\n",
        "print(my1DArray)\n"
      ],
      "metadata": {
        "colab": {
          "base_uri": "https://localhost:8080/"
        },
        "id": "5bwTUMXp0LGZ",
        "outputId": "6bf42a0d-8385-411f-9c31-61ad28441592"
      },
      "execution_count": 9,
      "outputs": [
        {
          "output_type": "stream",
          "name": "stdout",
          "text": [
            "[ 1  8 27 64]\n"
          ]
        }
      ]
    },
    {
      "cell_type": "code",
      "source": [
        "# Defining and printing 2D array\n",
        "my2DArray = np.array([[1, 2, 3, 4], [2, 4, 9, 16], [4, 8, 18, 32]])\n",
        "print(my2DArray)"
      ],
      "metadata": {
        "colab": {
          "base_uri": "https://localhost:8080/"
        },
        "id": "wReE3SlN0RLy",
        "outputId": "72b9cfdc-314a-4078-b550-b8b9bbc9b344"
      },
      "execution_count": 10,
      "outputs": [
        {
          "output_type": "stream",
          "name": "stdout",
          "text": [
            "[[ 1  2  3  4]\n",
            " [ 2  4  9 16]\n",
            " [ 4  8 18 32]]\n"
          ]
        }
      ]
    },
    {
      "cell_type": "code",
      "source": [
        "#Defining and printing 3D array\n",
        "my3DArray = np.array([[[ 1, 2 , 3 , 4],[ 5 , 6 , 7 ,8]], [[ 1, 2, 3,\n",
        "4],[ 9, 10, 11, 12]]])\n",
        "print(my3DArray)"
      ],
      "metadata": {
        "colab": {
          "base_uri": "https://localhost:8080/"
        },
        "id": "_zM2nPGe0WQJ",
        "outputId": "d74ed2c1-5516-45c0-8671-ad52e5266979"
      },
      "execution_count": 11,
      "outputs": [
        {
          "output_type": "stream",
          "name": "stdout",
          "text": [
            "[[[ 1  2  3  4]\n",
            "  [ 5  6  7  8]]\n",
            "\n",
            " [[ 1  2  3  4]\n",
            "  [ 9 10 11 12]]]\n"
          ]
        }
      ]
    },
    {
      "cell_type": "code",
      "source": [
        "# Print out memory address\n",
        "print(my2DArray.data)\n"
      ],
      "metadata": {
        "colab": {
          "base_uri": "https://localhost:8080/"
        },
        "id": "ry9HGcy80DTB",
        "outputId": "d02447c2-5ae1-4a9a-9ae6-f721365ca0b9"
      },
      "execution_count": null,
      "outputs": [
        {
          "output_type": "stream",
          "name": "stdout",
          "text": [
            "<memory at 0x7c4142ce0110>\n"
          ]
        }
      ]
    },
    {
      "cell_type": "code",
      "source": [
        "# Print the shape of array\n",
        "print(my2DArray.shape)\n"
      ],
      "metadata": {
        "colab": {
          "base_uri": "https://localhost:8080/"
        },
        "id": "xe4EVWmiz9Xc",
        "outputId": "5081757b-b9aa-4f4a-b876-9665288741d5"
      },
      "execution_count": null,
      "outputs": [
        {
          "output_type": "stream",
          "name": "stdout",
          "text": [
            "(3, 4)\n"
          ]
        }
      ]
    },
    {
      "cell_type": "code",
      "source": [
        "# Print out the data type of the array\n",
        "print(my2DArray.dtype)"
      ],
      "metadata": {
        "colab": {
          "base_uri": "https://localhost:8080/"
        },
        "id": "z8ZrEe1e03YQ",
        "outputId": "bda68770-f63b-4023-dbd9-349015802b9b"
      },
      "execution_count": null,
      "outputs": [
        {
          "output_type": "stream",
          "name": "stdout",
          "text": [
            "int64\n"
          ]
        }
      ]
    },
    {
      "cell_type": "code",
      "source": [
        "# Print the stride of the array.\n",
        "print(my2DArray.strides)"
      ],
      "metadata": {
        "colab": {
          "base_uri": "https://localhost:8080/"
        },
        "id": "Pf8E1rY-4zMR",
        "outputId": "8f7a3e0f-34fe-4010-927e-ad4f7327b9cc"
      },
      "execution_count": null,
      "outputs": [
        {
          "output_type": "stream",
          "name": "stdout",
          "text": [
            "(32, 8)\n"
          ]
        }
      ]
    },
    {
      "cell_type": "code",
      "source": [
        "# Array of ones\n",
        "ones = np.ones((3,4))\n",
        "print(ones)"
      ],
      "metadata": {
        "colab": {
          "base_uri": "https://localhost:8080/"
        },
        "id": "-At8ywji5NCP",
        "outputId": "da833035-26b4-45fc-8e4d-92755cdd6c59"
      },
      "execution_count": null,
      "outputs": [
        {
          "output_type": "stream",
          "name": "stdout",
          "text": [
            "[[1. 1. 1. 1.]\n",
            " [1. 1. 1. 1.]\n",
            " [1. 1. 1. 1.]]\n"
          ]
        }
      ]
    },
    {
      "cell_type": "code",
      "source": [
        "# Array of zeros\n",
        "zeros = np.zeros((2,3,4),dtype=np.int16)\n",
        "#zeros = np.zeros((2,3,4))\n",
        "print(zeros)\n"
      ],
      "metadata": {
        "colab": {
          "base_uri": "https://localhost:8080/"
        },
        "id": "3LBeGr5t5jXv",
        "outputId": "c6dfa92b-9d8f-4029-fe82-6fdfe3030a7e"
      },
      "execution_count": null,
      "outputs": [
        {
          "output_type": "stream",
          "name": "stdout",
          "text": [
            "[[[0 0 0 0]\n",
            "  [0 0 0 0]\n",
            "  [0 0 0 0]]\n",
            "\n",
            " [[0 0 0 0]\n",
            "  [0 0 0 0]\n",
            "  [0 0 0 0]]]\n"
          ]
        }
      ]
    },
    {
      "cell_type": "code",
      "source": [
        "# Array with random values\n",
        "np.random.random((2,2))"
      ],
      "metadata": {
        "colab": {
          "base_uri": "https://localhost:8080/"
        },
        "id": "DgtDb6Ah5_a_",
        "outputId": "54c778aa-c94b-4151-f0cb-428bae7747ca"
      },
      "execution_count": null,
      "outputs": [
        {
          "output_type": "execute_result",
          "data": {
            "text/plain": [
              "array([[0.10027481, 0.23524963],\n",
              "       [0.88614494, 0.34473928]])"
            ]
          },
          "metadata": {},
          "execution_count": 22
        }
      ]
    },
    {
      "cell_type": "code",
      "source": [
        "# Empty array\n",
        "emptyArray = np.empty((3,2))\n",
        "print(emptyArray)"
      ],
      "metadata": {
        "colab": {
          "base_uri": "https://localhost:8080/"
        },
        "id": "bmGcSKka6xI-",
        "outputId": "03a9a6e7-fa50-4e2c-8456-94e1d7b715cf"
      },
      "execution_count": null,
      "outputs": [
        {
          "output_type": "stream",
          "name": "stdout",
          "text": [
            "[[0. 0.]\n",
            " [0. 0.]\n",
            " [0. 0.]]\n"
          ]
        }
      ]
    },
    {
      "cell_type": "code",
      "source": [
        "# Full array\n",
        "fullArray = np.full((2,2),7)\n",
        "print(fullArray)"
      ],
      "metadata": {
        "colab": {
          "base_uri": "https://localhost:8080/"
        },
        "id": "GThP4Xg27NJu",
        "outputId": "5e26dd1d-7265-43c0-b4c4-f98a80a3e2b7"
      },
      "execution_count": null,
      "outputs": [
        {
          "output_type": "stream",
          "name": "stdout",
          "text": [
            "[[7 7]\n",
            " [7 7]]\n"
          ]
        }
      ]
    },
    {
      "cell_type": "code",
      "source": [
        "# Array of evenly-spaced values\n",
        "evenSpacedArray = np.arange(10,25,5)\n",
        "print(evenSpacedArray)"
      ],
      "metadata": {
        "colab": {
          "base_uri": "https://localhost:8080/"
        },
        "id": "9fmU4Soh7Uhe",
        "outputId": "8970a318-1dee-4edc-8ea3-9c87dd274c0c"
      },
      "execution_count": null,
      "outputs": [
        {
          "output_type": "stream",
          "name": "stdout",
          "text": [
            "[10 15 20]\n"
          ]
        }
      ]
    },
    {
      "cell_type": "code",
      "source": [
        "# Array of evenly-spaced values\n",
        "evenSpacedArray2 = np.linspace(0,2,9)\n",
        "print(evenSpacedArray2)"
      ],
      "metadata": {
        "colab": {
          "base_uri": "https://localhost:8080/"
        },
        "id": "pm3qatqm7lJe",
        "outputId": "ecca13f3-16ca-49f2-9fbc-5043c2f255be"
      },
      "execution_count": null,
      "outputs": [
        {
          "output_type": "stream",
          "name": "stdout",
          "text": [
            "[0.   0.25 0.5  0.75 1.   1.25 1.5  1.75 2.  ]\n"
          ]
        }
      ]
    },
    {
      "cell_type": "code",
      "source": [
        "# Save a numpy array into file\n",
        "x = np.arange(0.0,50.0,2.0)\n",
        "np.savetxt('data.out', x, delimiter=',')\n",
        "# Loading numpy array from text\n",
        "z = np.loadtxt('data.out', unpack=True)\n",
        "print(z)\n"
      ],
      "metadata": {
        "colab": {
          "base_uri": "https://localhost:8080/"
        },
        "id": "Dkr2ysxH7-Fe",
        "outputId": "695c3a1e-6860-4173-c414-14c611b2dda6"
      },
      "execution_count": null,
      "outputs": [
        {
          "output_type": "stream",
          "name": "stdout",
          "text": [
            "[ 0.  2.  4.  6.  8. 10. 12. 14. 16. 18. 20. 22. 24. 26. 28. 30. 32. 34.\n",
            " 36. 38. 40. 42. 44. 46. 48.]\n"
          ]
        }
      ]
    },
    {
      "cell_type": "code",
      "source": [
        "mydf=np.shape(my2DArray)\n",
        "print(mydf)"
      ],
      "metadata": {
        "colab": {
          "base_uri": "https://localhost:8080/"
        },
        "id": "rODYBZhJFoe7",
        "outputId": "dbaa2f9b-b920-44e1-c75a-34c914b6060f"
      },
      "execution_count": null,
      "outputs": [
        {
          "output_type": "stream",
          "name": "stdout",
          "text": [
            "(3, 4)\n"
          ]
        }
      ]
    },
    {
      "cell_type": "code",
      "source": [
        "# Loading numpy array using genfromtxt method\n",
        "my_array2 = np.genfromtxt('data.out', skip_header=1, filling_values=-999)\n",
        "print(my_array2)"
      ],
      "metadata": {
        "colab": {
          "base_uri": "https://localhost:8080/"
        },
        "id": "ajeAZVdfIP6p",
        "outputId": "9b6d44e6-15c3-47b6-ec94-cc1fe2e1d4eb"
      },
      "execution_count": null,
      "outputs": [
        {
          "output_type": "stream",
          "name": "stdout",
          "text": [
            "[ 2.  4.  6.  8. 10. 12. 14. 16. 18. 20. 22. 24. 26. 28. 30. 32. 34. 36.\n",
            " 38. 40. 42. 44. 46. 48.]\n"
          ]
        }
      ]
    },
    {
      "cell_type": "code",
      "source": [
        "# Print the number of `my2DArray`'s dimensions\n",
        "print(my2DArray.ndim)"
      ],
      "metadata": {
        "colab": {
          "base_uri": "https://localhost:8080/"
        },
        "id": "fSYATONHJHs5",
        "outputId": "dba770f8-306a-4b20-b3dd-b35bbfc847b4"
      },
      "execution_count": null,
      "outputs": [
        {
          "output_type": "stream",
          "name": "stdout",
          "text": [
            "2\n"
          ]
        }
      ]
    },
    {
      "cell_type": "markdown",
      "source": [],
      "metadata": {
        "id": "yDiy-nxxJP5Y"
      }
    },
    {
      "cell_type": "code",
      "source": [
        "# Print the number of `my2DArray`'s elements\n",
        "print(my2DArray.size)"
      ],
      "metadata": {
        "id": "8bWBZIygJKth",
        "outputId": "32ffe963-1bdf-44cc-c5a4-238216bc56e1",
        "colab": {
          "base_uri": "https://localhost:8080/"
        }
      },
      "execution_count": null,
      "outputs": [
        {
          "output_type": "stream",
          "name": "stdout",
          "text": [
            "12\n"
          ]
        }
      ]
    },
    {
      "cell_type": "code",
      "source": [
        "# Print information about my2DArray's memory layout\n",
        "print(my2DArray.flags)"
      ],
      "metadata": {
        "id": "Gku2Wbo8JN25",
        "colab": {
          "base_uri": "https://localhost:8080/"
        },
        "outputId": "912371a6-0ea5-4a8e-8b9a-6da073474c03"
      },
      "execution_count": 13,
      "outputs": [
        {
          "output_type": "stream",
          "name": "stdout",
          "text": [
            "  C_CONTIGUOUS : True\n",
            "  F_CONTIGUOUS : False\n",
            "  OWNDATA : True\n",
            "  WRITEABLE : True\n",
            "  ALIGNED : True\n",
            "  WRITEBACKIFCOPY : False\n",
            "  UPDATEIFCOPY : False\n",
            "\n"
          ]
        }
      ]
    },
    {
      "cell_type": "code",
      "source": [
        "# Print the length of one array element in bytes\n",
        "print(my2DArray.itemsize)"
      ],
      "metadata": {
        "colab": {
          "base_uri": "https://localhost:8080/"
        },
        "id": "jKecqGvQ0SrT",
        "outputId": "037985e0-9860-484a-e9dc-ea3fb7a9d3d6"
      },
      "execution_count": 14,
      "outputs": [
        {
          "output_type": "stream",
          "name": "stdout",
          "text": [
            "8\n"
          ]
        }
      ]
    },
    {
      "cell_type": "code",
      "source": [
        "# Print the total consumed bytes by `my2DArray`'s elements\n",
        "print(my2DArray.nbytes)\n"
      ],
      "metadata": {
        "colab": {
          "base_uri": "https://localhost:8080/"
        },
        "id": "AG6KNmFY0XGL",
        "outputId": "acd8c91a-4212-4875-9eb4-c6371faa5a53"
      },
      "execution_count": 15,
      "outputs": [
        {
          "output_type": "stream",
          "name": "stdout",
          "text": [
            "96\n"
          ]
        }
      ]
    },
    {
      "cell_type": "code",
      "source": [
        "  # Rule 1: Two dimensions are operatable if they are equal\n",
        "  # Create an array of two dimension\n",
        "  A = np.ones((6, 8))\n",
        "  # Shape of A  print(A.shape)\n",
        "  # Create another array\n",
        "  B = np.random.random((6,8))\n",
        "  # Shape of B  print(B.shape)\n",
        "  # Sum of A and B, here the shape of both the matrix is same.\n",
        "  print(A + B)\n"
      ],
      "metadata": {
        "colab": {
          "base_uri": "https://localhost:8080/"
        },
        "id": "ZUqjfrJT0coW",
        "outputId": "80fc230e-d37e-4202-899b-22c74961b140"
      },
      "execution_count": 16,
      "outputs": [
        {
          "output_type": "stream",
          "name": "stdout",
          "text": [
            "[[1.23018865 1.45111181 1.13696546 1.47576772 1.53566665 1.56112676\n",
            "  1.88314238 1.91084443]\n",
            " [1.89608418 1.15610765 1.01649346 1.49947122 1.36428714 1.14034773\n",
            "  1.90696446 1.13206531]\n",
            " [1.61391497 1.74948737 1.20130967 1.69905083 1.1602423  1.8147703\n",
            "  1.57885306 1.72974506]\n",
            " [1.74298221 1.29917047 1.07887836 1.56768965 1.93678389 1.49952694\n",
            "  1.2644858  1.83695305]\n",
            " [1.37748295 1.25435534 1.81183476 1.01454369 1.51010851 1.22548225\n",
            "  1.10981035 1.9414205 ]\n",
            " [1.13041788 1.94939416 1.62066612 1.58364479 1.72139834 1.43208808\n",
            "  1.6743646  1.57002645]]\n"
          ]
        }
      ]
    },
    {
      "cell_type": "code",
      "source": [
        "# Rule 2: Two dimensions are also compatible when one of them is 1\n",
        "# Initialize `x`\n",
        "x = np.ones((3,4))\n",
        "print(x)\n",
        "# Check shape of `x`\n",
        "print(x.shape)\n",
        "# Initialize `y`\n",
        "y = np.arange(4)\n",
        "#Check shape of `y`\n",
        "print(y.shape)"
      ],
      "metadata": {
        "colab": {
          "base_uri": "https://localhost:8080/"
        },
        "id": "8BiJtIyI00Xq",
        "outputId": "1d110980-98b5-450d-dcb5-68d9b34b97b3"
      },
      "execution_count": 20,
      "outputs": [
        {
          "output_type": "stream",
          "name": "stdout",
          "text": [
            "[[1. 1. 1. 1.]\n",
            " [1. 1. 1. 1.]\n",
            " [1. 1. 1. 1.]]\n",
            "(3, 4)\n",
            "(4,)\n"
          ]
        }
      ]
    },
    {
      "cell_type": "code",
      "source": [
        "# Rule 3: Arrays can be broadcast together if they are compatible in all dimensions\n",
        "x = np.ones((6,8))\n",
        "y = np.random.random((10, 1, 8))\n",
        "print(x + y)"
      ],
      "metadata": {
        "colab": {
          "base_uri": "https://localhost:8080/"
        },
        "id": "wcaz8cVJ27AF",
        "outputId": "5a2ef489-0f40-4852-912a-ab15367efb8e"
      },
      "execution_count": 21,
      "outputs": [
        {
          "output_type": "stream",
          "name": "stdout",
          "text": [
            "[[[1.64488027 1.5044402  1.22083835 1.11497332 1.37389685 1.54064442\n",
            "   1.83855606 1.2175503 ]\n",
            "  [1.64488027 1.5044402  1.22083835 1.11497332 1.37389685 1.54064442\n",
            "   1.83855606 1.2175503 ]\n",
            "  [1.64488027 1.5044402  1.22083835 1.11497332 1.37389685 1.54064442\n",
            "   1.83855606 1.2175503 ]\n",
            "  [1.64488027 1.5044402  1.22083835 1.11497332 1.37389685 1.54064442\n",
            "   1.83855606 1.2175503 ]\n",
            "  [1.64488027 1.5044402  1.22083835 1.11497332 1.37389685 1.54064442\n",
            "   1.83855606 1.2175503 ]\n",
            "  [1.64488027 1.5044402  1.22083835 1.11497332 1.37389685 1.54064442\n",
            "   1.83855606 1.2175503 ]]\n",
            "\n",
            " [[1.03392971 1.83046362 1.07721872 1.82168636 1.03852821 1.15793602\n",
            "   1.91387938 1.48272547]\n",
            "  [1.03392971 1.83046362 1.07721872 1.82168636 1.03852821 1.15793602\n",
            "   1.91387938 1.48272547]\n",
            "  [1.03392971 1.83046362 1.07721872 1.82168636 1.03852821 1.15793602\n",
            "   1.91387938 1.48272547]\n",
            "  [1.03392971 1.83046362 1.07721872 1.82168636 1.03852821 1.15793602\n",
            "   1.91387938 1.48272547]\n",
            "  [1.03392971 1.83046362 1.07721872 1.82168636 1.03852821 1.15793602\n",
            "   1.91387938 1.48272547]\n",
            "  [1.03392971 1.83046362 1.07721872 1.82168636 1.03852821 1.15793602\n",
            "   1.91387938 1.48272547]]\n",
            "\n",
            " [[1.18222721 1.70831487 1.66134451 1.66594624 1.83731504 1.63044301\n",
            "   1.08584305 1.62407596]\n",
            "  [1.18222721 1.70831487 1.66134451 1.66594624 1.83731504 1.63044301\n",
            "   1.08584305 1.62407596]\n",
            "  [1.18222721 1.70831487 1.66134451 1.66594624 1.83731504 1.63044301\n",
            "   1.08584305 1.62407596]\n",
            "  [1.18222721 1.70831487 1.66134451 1.66594624 1.83731504 1.63044301\n",
            "   1.08584305 1.62407596]\n",
            "  [1.18222721 1.70831487 1.66134451 1.66594624 1.83731504 1.63044301\n",
            "   1.08584305 1.62407596]\n",
            "  [1.18222721 1.70831487 1.66134451 1.66594624 1.83731504 1.63044301\n",
            "   1.08584305 1.62407596]]\n",
            "\n",
            " [[1.32290595 1.13226725 1.24609762 1.11394083 1.89083952 1.51642649\n",
            "   1.65184145 1.54913008]\n",
            "  [1.32290595 1.13226725 1.24609762 1.11394083 1.89083952 1.51642649\n",
            "   1.65184145 1.54913008]\n",
            "  [1.32290595 1.13226725 1.24609762 1.11394083 1.89083952 1.51642649\n",
            "   1.65184145 1.54913008]\n",
            "  [1.32290595 1.13226725 1.24609762 1.11394083 1.89083952 1.51642649\n",
            "   1.65184145 1.54913008]\n",
            "  [1.32290595 1.13226725 1.24609762 1.11394083 1.89083952 1.51642649\n",
            "   1.65184145 1.54913008]\n",
            "  [1.32290595 1.13226725 1.24609762 1.11394083 1.89083952 1.51642649\n",
            "   1.65184145 1.54913008]]\n",
            "\n",
            " [[1.87499703 1.79758376 1.48334151 1.83595959 1.44395573 1.32261484\n",
            "   1.18656504 1.5212212 ]\n",
            "  [1.87499703 1.79758376 1.48334151 1.83595959 1.44395573 1.32261484\n",
            "   1.18656504 1.5212212 ]\n",
            "  [1.87499703 1.79758376 1.48334151 1.83595959 1.44395573 1.32261484\n",
            "   1.18656504 1.5212212 ]\n",
            "  [1.87499703 1.79758376 1.48334151 1.83595959 1.44395573 1.32261484\n",
            "   1.18656504 1.5212212 ]\n",
            "  [1.87499703 1.79758376 1.48334151 1.83595959 1.44395573 1.32261484\n",
            "   1.18656504 1.5212212 ]\n",
            "  [1.87499703 1.79758376 1.48334151 1.83595959 1.44395573 1.32261484\n",
            "   1.18656504 1.5212212 ]]\n",
            "\n",
            " [[1.93674677 1.30639763 1.21232379 1.25235447 1.35109002 1.04266233\n",
            "   1.59812298 1.31669995]\n",
            "  [1.93674677 1.30639763 1.21232379 1.25235447 1.35109002 1.04266233\n",
            "   1.59812298 1.31669995]\n",
            "  [1.93674677 1.30639763 1.21232379 1.25235447 1.35109002 1.04266233\n",
            "   1.59812298 1.31669995]\n",
            "  [1.93674677 1.30639763 1.21232379 1.25235447 1.35109002 1.04266233\n",
            "   1.59812298 1.31669995]\n",
            "  [1.93674677 1.30639763 1.21232379 1.25235447 1.35109002 1.04266233\n",
            "   1.59812298 1.31669995]\n",
            "  [1.93674677 1.30639763 1.21232379 1.25235447 1.35109002 1.04266233\n",
            "   1.59812298 1.31669995]]\n",
            "\n",
            " [[1.65417631 1.16907677 1.06078494 1.47317142 1.97948093 1.86889946\n",
            "   1.64195281 1.88937164]\n",
            "  [1.65417631 1.16907677 1.06078494 1.47317142 1.97948093 1.86889946\n",
            "   1.64195281 1.88937164]\n",
            "  [1.65417631 1.16907677 1.06078494 1.47317142 1.97948093 1.86889946\n",
            "   1.64195281 1.88937164]\n",
            "  [1.65417631 1.16907677 1.06078494 1.47317142 1.97948093 1.86889946\n",
            "   1.64195281 1.88937164]\n",
            "  [1.65417631 1.16907677 1.06078494 1.47317142 1.97948093 1.86889946\n",
            "   1.64195281 1.88937164]\n",
            "  [1.65417631 1.16907677 1.06078494 1.47317142 1.97948093 1.86889946\n",
            "   1.64195281 1.88937164]]\n",
            "\n",
            " [[1.68302792 1.08001245 1.89244371 1.76192964 1.30347687 1.77353858\n",
            "   1.76654578 1.36919383]\n",
            "  [1.68302792 1.08001245 1.89244371 1.76192964 1.30347687 1.77353858\n",
            "   1.76654578 1.36919383]\n",
            "  [1.68302792 1.08001245 1.89244371 1.76192964 1.30347687 1.77353858\n",
            "   1.76654578 1.36919383]\n",
            "  [1.68302792 1.08001245 1.89244371 1.76192964 1.30347687 1.77353858\n",
            "   1.76654578 1.36919383]\n",
            "  [1.68302792 1.08001245 1.89244371 1.76192964 1.30347687 1.77353858\n",
            "   1.76654578 1.36919383]\n",
            "  [1.68302792 1.08001245 1.89244371 1.76192964 1.30347687 1.77353858\n",
            "   1.76654578 1.36919383]]\n",
            "\n",
            " [[1.43827506 1.86295557 1.72979608 1.63942337 1.74661434 1.44944504\n",
            "   1.26965045 1.04441504]\n",
            "  [1.43827506 1.86295557 1.72979608 1.63942337 1.74661434 1.44944504\n",
            "   1.26965045 1.04441504]\n",
            "  [1.43827506 1.86295557 1.72979608 1.63942337 1.74661434 1.44944504\n",
            "   1.26965045 1.04441504]\n",
            "  [1.43827506 1.86295557 1.72979608 1.63942337 1.74661434 1.44944504\n",
            "   1.26965045 1.04441504]\n",
            "  [1.43827506 1.86295557 1.72979608 1.63942337 1.74661434 1.44944504\n",
            "   1.26965045 1.04441504]\n",
            "  [1.43827506 1.86295557 1.72979608 1.63942337 1.74661434 1.44944504\n",
            "   1.26965045 1.04441504]]\n",
            "\n",
            " [[1.08037571 1.73810738 1.64177701 1.1640316  1.52803303 1.609388\n",
            "   1.65418996 1.50700099]\n",
            "  [1.08037571 1.73810738 1.64177701 1.1640316  1.52803303 1.609388\n",
            "   1.65418996 1.50700099]\n",
            "  [1.08037571 1.73810738 1.64177701 1.1640316  1.52803303 1.609388\n",
            "   1.65418996 1.50700099]\n",
            "  [1.08037571 1.73810738 1.64177701 1.1640316  1.52803303 1.609388\n",
            "   1.65418996 1.50700099]\n",
            "  [1.08037571 1.73810738 1.64177701 1.1640316  1.52803303 1.609388\n",
            "   1.65418996 1.50700099]\n",
            "  [1.08037571 1.73810738 1.64177701 1.1640316  1.52803303 1.609388\n",
            "   1.65418996 1.50700099]]]\n"
          ]
        }
      ]
    },
    {
      "cell_type": "code",
      "source": [
        "# Basic operations (+, -, *, /, %)\n",
        "x = np.array([[1, 2, 3], [2, 3, 4]])\n",
        "y = np.array([[1, 4, 9], [2, 3, -2]])\n",
        "# Add two array\n",
        "add = np.add(x, y)\n",
        "print(add)\n",
        "# Subtract two array\n",
        "sub = np.subtract(x, y)\n",
        "print(sub)\n",
        "# Multiply two array\n",
        "mul = np.multiply(x, y)\n",
        "print(mul)\n",
        "# Divide x, y\n",
        "div = np.divide(x,y)\n",
        "print(div)\n",
        "# Calculated the remainder of x and y\n",
        "rem = np.remainder(x, y)\n",
        "print(rem)\n"
      ],
      "metadata": {
        "colab": {
          "base_uri": "https://localhost:8080/"
        },
        "id": "G2sZl8A83CWy",
        "outputId": "1b32e96b-1756-4c59-d18d-70d3231e42f7"
      },
      "execution_count": 23,
      "outputs": [
        {
          "output_type": "stream",
          "name": "stdout",
          "text": [
            "[[ 2  6 12]\n",
            " [ 4  6  2]]\n",
            "[[ 0 -2 -6]\n",
            " [ 0  0  6]]\n",
            "[[ 1  8 27]\n",
            " [ 4  9 -8]]\n",
            "[[ 1.          0.5         0.33333333]\n",
            " [ 1.          1.         -2.        ]]\n",
            "[[0 2 3]\n",
            " [0 0 0]]\n"
          ]
        }
      ]
    },
    {
      "cell_type": "code",
      "source": [
        "x = np.array([10, 20, 30, 40, 50])\n",
        "# Select items at index 0 and 1\n",
        "print(x[0:2])\n",
        "# Select item at row 0 and 1 and column 1 from 2D array\n",
        "y = np.array([[ 1, 2, 3, 4], [ 9, 10, 11 ,12]])\n",
        "print(y[0:2, 1])\n",
        "# Specifying conditions\n",
        "biggerThan2 = (y >= 2)\n",
        "print(y[biggerThan2])\n"
      ],
      "metadata": {
        "colab": {
          "base_uri": "https://localhost:8080/"
        },
        "id": "GKpaT6Oy3_UC",
        "outputId": "02d1a538-d9a0-4c89-f6f3-79a96dbedf7b"
      },
      "execution_count": 25,
      "outputs": [
        {
          "output_type": "stream",
          "name": "stdout",
          "text": [
            "[10 20]\n",
            "[ 2 10]\n",
            "[ 2  3  4  9 10 11 12]\n"
          ]
        }
      ]
    }
  ]
}